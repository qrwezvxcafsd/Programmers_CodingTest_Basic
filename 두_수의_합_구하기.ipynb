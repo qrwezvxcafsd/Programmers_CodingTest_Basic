{
  "nbformat": 4,
  "nbformat_minor": 0,
  "metadata": {
    "colab": {
      "provenance": [],
      "authorship_tag": "ABX9TyP1qNEDVbzHeZQKMz+rkE5y",
      "include_colab_link": true
    },
    "kernelspec": {
      "name": "python3",
      "display_name": "Python 3"
    },
    "language_info": {
      "name": "python"
    }
  },
  "cells": [
    {
      "cell_type": "markdown",
      "metadata": {
        "id": "view-in-github",
        "colab_type": "text"
      },
      "source": [
        "<a href=\"https://colab.research.google.com/github/qrwezvxcafsd/Programmers_CodingTest_Basic/blob/Day1/%EB%91%90_%EC%88%98%EC%9D%98_%ED%95%A9_%EA%B5%AC%ED%95%98%EA%B8%B0.ipynb\" target=\"_parent\"><img src=\"https://colab.research.google.com/assets/colab-badge.svg\" alt=\"Open In Colab\"/></a>"
      ]
    },
    {
      "cell_type": "code",
      "execution_count": 1,
      "metadata": {
        "id": "ja5OfgzusBcG"
      },
      "outputs": [],
      "source": [
        "# 문제: 문자열 뒤집기\n",
        "\n",
        "# 출처: https://school.programmers.co.kr/learn/courses/30/lessons/120802\n",
        "\n",
        "# 설명: 두 정수의 합 구하는 함수 작성"
      ]
    },
    {
      "cell_type": "code",
      "source": [
        "def solution(num1, num2):\n",
        "    answer = num1 + num2\n",
        "    return answer\n",
        "\n",
        "if __name__ == \"__main__\":\n",
        "    print(solution(10, 11))"
      ],
      "metadata": {
        "colab": {
          "base_uri": "https://localhost:8080/"
        },
        "id": "fqtH2Nm4sfEC",
        "outputId": "b1a87636-467f-4286-8c44-6bd4471ca5ac"
      },
      "execution_count": 10,
      "outputs": [
        {
          "output_type": "stream",
          "name": "stdout",
          "text": [
            "21\n"
          ]
        }
      ]
    }
  ]
}